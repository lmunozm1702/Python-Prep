{
 "cells": [
  {
   "attachments": {},
   "cell_type": "markdown",
   "metadata": {},
   "source": [
    "## Funciones"
   ]
  },
  {
   "attachments": {},
   "cell_type": "markdown",
   "metadata": {},
   "source": [
    "1) Crear una función que reciba un número como parámetro y devuelva True si es primo y False si no lo es"
   ]
  },
  {
   "cell_type": "code",
   "execution_count": 2,
   "metadata": {},
   "outputs": [
    {
     "name": "stdout",
     "output_type": "stream",
     "text": [
      "False\n"
     ]
    }
   ],
   "source": [
    "def is_prime_number(number):\n",
    "    if number == 1:\n",
    "        return False\n",
    "    for i in range(2, number):\n",
    "        if number % i == 0:\n",
    "            return False\n",
    "    return True\n",
    "\n",
    "print(is_prime_number(6))"
   ]
  },
  {
   "attachments": {},
   "cell_type": "markdown",
   "metadata": {},
   "source": [
    "2) Utilizando la función del punto 1, realizar otra función que reciba de parámetro una lista de números y devuelva sólo aquellos que son primos en otra lista"
   ]
  },
  {
   "cell_type": "code",
   "execution_count": 3,
   "metadata": {},
   "outputs": [
    {
     "name": "stdout",
     "output_type": "stream",
     "text": [
      "[2, 3, 5, 7]\n"
     ]
    }
   ],
   "source": [
    "number_list = [2, 3, 4, 5, 6, 7, 8, 9, 10]\n",
    "def get_prime_numbers(numbers):\n",
    "    return [number for number in numbers if is_prime_number(number)]\n",
    "\n",
    "print(get_prime_numbers(number_list))"
   ]
  },
  {
   "attachments": {},
   "cell_type": "markdown",
   "metadata": {},
   "source": [
    "3) Crear una función que al recibir una lista de números, devuelva el que más se repite y cuántas veces lo hace. Si hay más de un \"más repetido\", que devuelva cualquiera"
   ]
  },
  {
   "cell_type": "code",
   "execution_count": 11,
   "metadata": {},
   "outputs": [
    {
     "name": "stdout",
     "output_type": "stream",
     "text": [
      "2\n"
     ]
    }
   ],
   "source": [
    "number_list = [2, 3, 4, 5, 2, 6, 7, 2, 8, 9, 8, 10]\n",
    "\n",
    "def get_most_common_number(numbers):\n",
    "    number_dict = {}\n",
    "    for number in numbers:\n",
    "        if number in number_dict:\n",
    "            number_dict[number] += 1\n",
    "        else:\n",
    "            number_dict[number] = 1\n",
    "    return max(number_dict, key=number_dict.get)\n",
    "print(get_most_common_number(number_list))"
   ]
  },
  {
   "attachments": {},
   "cell_type": "markdown",
   "metadata": {},
   "source": [
    "4) Crear una función que convierta entre grados Celsius, Farenheit y Kelvin<br>\n",
    "Fórmula 1\t: (°C × 9/5) + 32 = °F<br>\n",
    "Fórmula 2\t: °C + 273.15 = °K<br>\n",
    "Debe recibir 3 parámetros: el valor, la medida de orígen y la medida de destino\n"
   ]
  },
  {
   "cell_type": "code",
   "execution_count": 12,
   "metadata": {},
   "outputs": [
    {
     "name": "stdout",
     "output_type": "stream",
     "text": [
      "32.0\n"
     ]
    }
   ],
   "source": [
    "def convert_temperatures(temperature, unit_from, unit_to):\n",
    "    if unit_from == 'C':\n",
    "        if unit_to == 'F':\n",
    "            return temperature * 9/5 + 32\n",
    "        elif unit_to == 'K':\n",
    "            return temperature + 273.15\n",
    "        else:\n",
    "            return temperature\n",
    "    elif unit_from == 'F':\n",
    "        if unit_to == 'C':\n",
    "            return (temperature - 32) * 5/9\n",
    "        elif unit_to == 'K':\n",
    "            return (temperature - 32) * 5/9 + 273.15\n",
    "        else:\n",
    "            return temperature\n",
    "    elif unit_from == 'K':\n",
    "        if unit_to == 'C':\n",
    "            return temperature - 273.15\n",
    "        elif unit_to == 'F':\n",
    "            return (temperature - 273.15) * 9/5 + 32\n",
    "        else:\n",
    "            return temperature\n",
    "    else:\n",
    "        return temperature\n",
    "    \n",
    "print(convert_temperatures(0, 'C', 'F'))\n"
   ]
  },
  {
   "attachments": {},
   "cell_type": "markdown",
   "metadata": {},
   "source": [
    "5) Iterando una lista con los tres valores posibles de temperatura que recibe la función del punto 5, hacer un print para cada combinación de los mismos:"
   ]
  },
  {
   "cell_type": "code",
   "execution_count": 13,
   "metadata": {},
   "outputs": [
    {
     "name": "stdout",
     "output_type": "stream",
     "text": [
      "32.0\n",
      "273.15\n",
      "0\n",
      "-17.77777777777778\n",
      "255.3722222222222\n",
      "0\n",
      "-273.15\n",
      "-459.66999999999996\n",
      "0\n"
     ]
    }
   ],
   "source": [
    "temp_list=[[0, 'C', 'F'], [0, 'C', 'K'], [0, 'C', 'C'], [0, 'F', 'C'], [0, 'F', 'K'], [0, 'F', 'F'], [0, 'K', 'C'], [0, 'K', 'F'], [0, 'K', 'K']]\n",
    "for temp in temp_list:\n",
    "    print(convert_temperatures(temp[0], temp[1], temp[2]))"
   ]
  },
  {
   "attachments": {},
   "cell_type": "markdown",
   "metadata": {},
   "source": [
    "6) Armar una función que devuelva el factorial de un número. Tener en cuenta que el usuario puede equivocarse y enviar de parámetro un número no entero o negativo"
   ]
  },
  {
   "cell_type": "code",
   "execution_count": 15,
   "metadata": {},
   "outputs": [
    {
     "name": "stdout",
     "output_type": "stream",
     "text": [
      "120\n",
      "Invalid number must be an integer greater than 0\n",
      "Invalid number must be an integer greater than 0\n"
     ]
    }
   ],
   "source": [
    "def factorial(number):\n",
    "    if number < 0 or type(number) != int:\n",
    "        return 'Invalid number must be an integer greater than 0'\n",
    "    if number == 0:\n",
    "        return 1\n",
    "    return number * factorial(number - 1)\n",
    "\n",
    "print(factorial(5))\n",
    "print(factorial(-5))\n",
    "print(factorial(5.5))"
   ]
  }
 ],
 "metadata": {
  "interpreter": {
   "hash": "c85384e4cb51c8b72350f3a8712cc8351fdc3955e32a27f9b60c6242ab125f01"
  },
  "kernelspec": {
   "display_name": "Python 3 (ipykernel)",
   "language": "python",
   "name": "python3"
  },
  "language_info": {
   "codemirror_mode": {
    "name": "ipython",
    "version": 3
   },
   "file_extension": ".py",
   "mimetype": "text/x-python",
   "name": "python",
   "nbconvert_exporter": "python",
   "pygments_lexer": "ipython3",
   "version": "3.10.12"
  }
 },
 "nbformat": 4,
 "nbformat_minor": 4
}
