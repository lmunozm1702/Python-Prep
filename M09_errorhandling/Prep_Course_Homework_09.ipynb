{
 "cells": [
  {
   "attachments": {},
   "cell_type": "markdown",
   "metadata": {},
   "source": [
    "## Manejo de errores"
   ]
  },
  {
   "attachments": {},
   "cell_type": "markdown",
   "metadata": {},
   "source": [
    "1) Con la clase creada en el módulo 7, tener en cuenta diferentes casos en que el código pudiera arrojar error. Por ejemplo, en la creación del objeto recibimos una lista de números enteros pero ¿qué pasa si se envía otro tipo de dato?"
   ]
  },
  {
   "cell_type": "code",
   "execution_count": 1,
   "metadata": {},
   "outputs": [
    {
     "name": "stdout",
     "output_type": "stream",
     "text": [
      "Factorial de 5 es 120\n",
      "Factorial de 6 es 720\n",
      "Factorial de 7 es 5040\n",
      "Factorial de 8 es 40320\n",
      "sólo se deben ingresar numeros enteros\n",
      "el primer valor debe ser un numero entero, los siguientes dos valores deben ser strings\n",
      "sólo se deben ingresar numeros enteros\n"
     ]
    },
    {
     "data": {
      "text/plain": [
       "2"
      ]
     },
     "execution_count": 1,
     "metadata": {},
     "output_type": "execute_result"
    }
   ],
   "source": [
    "from operaciones_debbuged import *\n",
    "\n",
    "a=Operaciones([5, 6, 7, 8, '9'])\n",
    "a.factorial()\n",
    "b=Operaciones([('100', 'C', 'F'), (100, 'C', 'K'), (100, 'C', 'C')])\n",
    "b.convert_temperatures()\n",
    "a.is_prime_number()\n",
    "c=Operaciones([[2, 3, '4', 5, 2, 6, 7, 2, 8, 9, 8, 10], [2, 3, 4, 5, 2, 6, 7, 2, 8, 9, 8, 10, 2, 2, 2]])\n",
    "c.get_most_common_number()\n"
   ]
  },
  {
   "attachments": {},
   "cell_type": "markdown",
   "metadata": {},
   "source": [
    "2) En la función que hace la conversión de grados, validar que los parámetros enviados sean los esperados, de no serlo, informar cuáles son los valores esperados."
   ]
  },
  {
   "cell_type": "code",
   "execution_count": 2,
   "metadata": {},
   "outputs": [
    {
     "ename": "TypeError",
     "evalue": "Operaciones.__init__() takes 2 positional arguments but 3 were given",
     "output_type": "error",
     "traceback": [
      "\u001b[0;31m---------------------------------------------------------------------------\u001b[0m",
      "\u001b[0;31mTypeError\u001b[0m                                 Traceback (most recent call last)",
      "Cell \u001b[0;32mIn[2], line 3\u001b[0m\n\u001b[1;32m      1\u001b[0m \u001b[38;5;66;03m#modificación realizada en la clase Operaciones (operaciones_debbuged.py)\u001b[39;00m\n\u001b[0;32m----> 3\u001b[0m bb \u001b[38;5;241m=\u001b[39m \u001b[43mOperaciones\u001b[49m\u001b[43m(\u001b[49m\u001b[38;5;241;43m1\u001b[39;49m\u001b[43m,\u001b[49m\u001b[38;5;241;43m2\u001b[39;49m\u001b[43m)\u001b[49m\n",
      "\u001b[0;31mTypeError\u001b[0m: Operaciones.__init__() takes 2 positional arguments but 3 were given"
     ]
    }
   ],
   "source": [
    "#modificación realizada en la clase Operaciones (operaciones_debbuged.py)\n",
    "\n",
    "bb = Operaciones(1,2)"
   ]
  },
  {
   "attachments": {},
   "cell_type": "markdown",
   "metadata": {},
   "source": [
    "3) Importar el modulo \"unittest\" y crear los siguientes casos de pruebas sobre la clase utilizada en el punto 2<br>\n",
    "Creacion del objeto incorrecta<br>\n",
    "Creacion correcta del objeto<br>\n",
    "Metodo valor_modal()<br>\n",
    "\n",
    "Se puede usar \"raise ValueError()\" en la creación de la clase para verificar el error. Investigar sobre esta funcionalidad."
   ]
  },
  {
   "cell_type": "code",
   "execution_count": 3,
   "metadata": {},
   "outputs": [
    {
     "name": "stderr",
     "output_type": "stream",
     "text": [
      "test_get_most_common_number (__main__.TestOperaciones) ... ok\n",
      "test_right_class_creation (__main__.TestOperaciones) ... ok\n",
      "test_wrong_class_creation (__main__.TestOperaciones) ... ok\n",
      "\n",
      "----------------------------------------------------------------------\n",
      "Ran 3 tests in 0.006s\n",
      "\n",
      "OK\n"
     ]
    },
    {
     "data": {
      "text/plain": [
       "<unittest.main.TestProgram at 0x7def2014f8e0>"
      ]
     },
     "execution_count": 3,
     "metadata": {},
     "output_type": "execute_result"
    }
   ],
   "source": [
    "import unittest\n",
    "\n",
    "class TestOperaciones(unittest.TestCase):\n",
    "    def test_wrong_class_creation(self):\n",
    "        try:\n",
    "          aa=Operaciones(1,2)\n",
    "        except TypeError as e:\n",
    "          return \"La lista de elementos debe ser una lista\"\n",
    "        \n",
    "        self.assertEqual(str(e), \"La lista de elementos debe ser una lista\")          \n",
    "\n",
    "    def test_right_class_creation(self):\n",
    "        aa=Operaciones([1,2])\n",
    "        self.assertEqual(aa.lista, [1,2])\n",
    "\n",
    "    def test_get_most_common_number(self):        \n",
    "        aa=Operaciones([[2, 3, 4, 5, 2, 6, 7, 2, 8, 9, 8, 10]])\n",
    "        self.assertEqual(aa.get_most_common_number(), 2)\n",
    "\n",
    "unittest.main(argv=[''], verbosity=2, exit=False)\n",
    "    "
   ]
  },
  {
   "attachments": {},
   "cell_type": "markdown",
   "metadata": {},
   "source": [
    "4) Probar una creación incorrecta y visualizar la salida del \"raise\""
   ]
  },
  {
   "cell_type": "code",
   "execution_count": 4,
   "metadata": {},
   "outputs": [
    {
     "ename": "NameError",
     "evalue": "name 'aa' is not defined",
     "output_type": "error",
     "traceback": [
      "\u001b[0;31m---------------------------------------------------------------------------\u001b[0m",
      "\u001b[0;31mNameError\u001b[0m                                 Traceback (most recent call last)",
      "Cell \u001b[0;32mIn[4], line 1\u001b[0m\n\u001b[0;32m----> 1\u001b[0m aa1 \u001b[38;5;241m=\u001b[39m \u001b[43maa\u001b[49m\u001b[38;5;241m.\u001b[39mOperaciones([\u001b[38;5;241m2\u001b[39m, \u001b[38;5;241m3\u001b[39m, \u001b[38;5;241m4\u001b[39m, \u001b[38;5;241m5\u001b[39m, \u001b[38;5;241m2\u001b[39m, \u001b[38;5;241m6\u001b[39m, \u001b[38;5;241m7\u001b[39m, \u001b[38;5;241m2\u001b[39m, \u001b[38;5;241m8\u001b[39m, \u001b[38;5;241m9\u001b[39m, \u001b[38;5;241m8\u001b[39m, \u001b[38;5;241m10\u001b[39m])\n\u001b[1;32m      3\u001b[0m \u001b[38;5;66;03m#Raise: NameError: name 'aa' is not defined\u001b[39;00m\n",
      "\u001b[0;31mNameError\u001b[0m: name 'aa' is not defined"
     ]
    }
   ],
   "source": [
    "aa1 = aa.Operaciones([2, 3, 4, 5, 2, 6, 7, 2, 8, 9, 8, 10])\n",
    "\n",
    "#Raise: NameError: name 'aa' is not defined"
   ]
  },
  {
   "attachments": {},
   "cell_type": "markdown",
   "metadata": {},
   "source": [
    "6) Agregar casos de pruebas para el método verifica_primos() realizando el cambio en la clase, para que devuelva una lista de True o False en función de que el elemento en la posisicón sea o no primo"
   ]
  },
  {
   "cell_type": "code",
   "execution_count": 7,
   "metadata": {},
   "outputs": [
    {
     "name": "stderr",
     "output_type": "stream",
     "text": [
      "test_get_most_common_number (__main__.TestOperaciones) ... ok\n",
      "test_right_class_creation (__main__.TestOperaciones) ... ok\n",
      "test_wrong_class_creation (__main__.TestOperaciones) ... ok\n",
      "test_is_prime_number (__main__.TestOperaciones2) ... ok\n",
      "\n",
      "----------------------------------------------------------------------\n",
      "Ran 4 tests in 0.006s\n",
      "\n",
      "OK\n"
     ]
    },
    {
     "data": {
      "text/plain": [
       "<unittest.main.TestProgram at 0x7def1855b790>"
      ]
     },
     "execution_count": 7,
     "metadata": {},
     "output_type": "execute_result"
    }
   ],
   "source": [
    "aa = Operaciones([2, 3, 4, 5, 2, 6, 7, 2, 8, 9, 8, 10])\n",
    "aa.is_prime_number()\n",
    "\n",
    "import unittest\n",
    "\n",
    "class TestOperaciones2(unittest.TestCase):\n",
    "    def test_is_prime_number(self):        \n",
    "        aa = Operaciones([2, 3, 4, 5, 2, 6, 7, 2, 8, 9, 8, 10])\n",
    "        self.assertEqual(aa.is_prime_number(), [True, True, False, True, True, False, True, True, False, False, False, False])\n",
    "\n",
    "unittest.main(argv=[''], verbosity=2, exit=False)\n",
    "    "
   ]
  },
  {
   "attachments": {},
   "cell_type": "markdown",
   "metadata": {},
   "source": [
    "7) Agregar casos de pruebas para el método conversion_grados()"
   ]
  },
  {
   "cell_type": "code",
   "execution_count": 4,
   "metadata": {},
   "outputs": [
    {
     "name": "stderr",
     "output_type": "stream",
     "text": [
      "test_convert_temperatures (__main__.TestOperaciones3) ... ok\n",
      "\n",
      "----------------------------------------------------------------------\n",
      "Ran 1 test in 0.002s\n",
      "\n",
      "OK\n"
     ]
    },
    {
     "data": {
      "text/plain": [
       "<unittest.main.TestProgram at 0x76c4b0039780>"
      ]
     },
     "execution_count": 4,
     "metadata": {},
     "output_type": "execute_result"
    }
   ],
   "source": [
    "from operaciones_debbuged import *\n",
    "import unittest\n",
    "\n",
    "class TestOperaciones3(unittest.TestCase):\n",
    "    def test_convert_temperatures(self):        \n",
    "        aa = Operaciones([(100, 'C', 'F')])\n",
    "        self.assertEqual(aa.convert_temperatures(), 212.0)\n",
    "\n",
    "unittest.main(argv=[''], verbosity=2, exit=False)\n",
    "    "
   ]
  },
  {
   "attachments": {},
   "cell_type": "markdown",
   "metadata": {},
   "source": [
    "8) Agregar casos de pruebas para el método factorial()"
   ]
  },
  {
   "cell_type": "code",
   "execution_count": 1,
   "metadata": {},
   "outputs": [
    {
     "name": "stderr",
     "output_type": "stream",
     "text": [
      "test_convert_temperatures (__main__.TestOperaciones4) ... ok\n",
      "\n",
      "----------------------------------------------------------------------\n",
      "Ran 1 test in 0.001s\n",
      "\n",
      "OK\n"
     ]
    },
    {
     "data": {
      "text/plain": [
       "<unittest.main.TestProgram at 0x780728548070>"
      ]
     },
     "execution_count": 1,
     "metadata": {},
     "output_type": "execute_result"
    }
   ],
   "source": [
    "from operaciones_debbuged import *\n",
    "import unittest\n",
    "\n",
    "class TestOperaciones4(unittest.TestCase):\n",
    "    def test_convert_temperatures(self):        \n",
    "        aa = Operaciones([5])\n",
    "        self.assertEqual(aa.factorial(), 120)\n",
    "\n",
    "unittest.main(argv=[''], verbosity=2, exit=False)\n",
    "    "
   ]
  }
 ],
 "metadata": {
  "interpreter": {
   "hash": "c85384e4cb51c8b72350f3a8712cc8351fdc3955e32a27f9b60c6242ab125f01"
  },
  "kernelspec": {
   "display_name": "Python 3 (ipykernel)",
   "language": "python",
   "name": "python3"
  },
  "language_info": {
   "codemirror_mode": {
    "name": "ipython",
    "version": 3
   },
   "file_extension": ".py",
   "mimetype": "text/x-python",
   "name": "python",
   "nbconvert_exporter": "python",
   "pygments_lexer": "ipython3",
   "version": "3.10.12"
  }
 },
 "nbformat": 4,
 "nbformat_minor": 4
}
