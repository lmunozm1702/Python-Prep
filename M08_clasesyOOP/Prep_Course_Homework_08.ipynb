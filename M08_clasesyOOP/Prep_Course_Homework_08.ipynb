{
 "cells": [
  {
   "attachments": {},
   "cell_type": "markdown",
   "metadata": {},
   "source": [
    "## Clases y Programación Orientada a Objetos"
   ]
  },
  {
   "attachments": {},
   "cell_type": "markdown",
   "metadata": {},
   "source": [
    "1) Crear la clase vehículo que contenga los atributos:<br>\n",
    "Color<br>\n",
    "Si es moto, auto, camioneta ó camión<br>\n",
    "Cilindrada del motor"
   ]
  },
  {
   "cell_type": "code",
   "execution_count": 4,
   "metadata": {},
   "outputs": [],
   "source": [
    "class Vehiculo:\n",
    "    def __init__(self, color, tipo, motor):\n",
    "        self.color = color\n",
    "        self.tipo = tipo\n",
    "        self.motor = motor\n",
    "\n"
   ]
  },
  {
   "attachments": {},
   "cell_type": "markdown",
   "metadata": {},
   "source": [
    "2) A la clase Vehiculo creada en el punto 1, agregar los siguientes métodos:<br>\n",
    "Acelerar<br>\n",
    "Frenar<br>\n",
    "Doblar<br>"
   ]
  },
  {
   "cell_type": "code",
   "execution_count": 5,
   "metadata": {},
   "outputs": [],
   "source": [
    "    def acerlerar(self):\n",
    "        print(\"Acelerando\")\n",
    "\n",
    "    def frenar(self):\n",
    "        print(\"Frenando\")\n",
    "\n",
    "    def doblar(self):\n",
    "        print(\"Doblando\")"
   ]
  },
  {
   "attachments": {},
   "cell_type": "markdown",
   "metadata": {},
   "source": [
    "3) Instanciar 3 objetos de la clase vehículo y ejecutar sus métodos, probar luego el resultado"
   ]
  },
  {
   "cell_type": "code",
   "execution_count": 6,
   "metadata": {},
   "outputs": [
    {
     "name": "stdout",
     "output_type": "stream",
     "text": [
      "Rojo\n",
      "Auto\n",
      "5000 cc\n"
     ]
    }
   ],
   "source": [
    "mi_moto = Vehiculo(\"Rojo\", \"Moto\", \"100 cc\")\n",
    "mi_auto = Vehiculo(\"Azul\", \"Auto\", \"2000 cc\")\n",
    "mi_camion = Vehiculo(\"Blanco\", \"Camion\", \"5000 cc\")\n",
    "\n",
    "print(mi_moto.color)\n",
    "print(mi_auto.tipo)\n",
    "print(mi_camion.motor)"
   ]
  },
  {
   "attachments": {},
   "cell_type": "markdown",
   "metadata": {},
   "source": [
    "4) Agregar a la clase Vehiculo, un método que muestre su estado, es decir, a que velocidad se encuentra y su dirección. Y otro método que muestre color, tipo y cilindrada"
   ]
  },
  {
   "cell_type": "code",
   "execution_count": 18,
   "metadata": {},
   "outputs": [
    {
     "name": "stdout",
     "output_type": "stream",
     "text": [
      "Rojo\n",
      "Auto\n",
      "5000 cc\n",
      "El vehiculo se mueve a 100 km/h y su direccion es Norte\n",
      "Color: Rojo Tipo: Moto Motor: 100 cc\n"
     ]
    }
   ],
   "source": [
    "class Vehiculo:\n",
    "    def __init__(self, color, tipo, motor):\n",
    "        self.color = color\n",
    "        self.tipo = tipo\n",
    "        self.motor = motor\n",
    "\n",
    "    def acerlerar(self):\n",
    "        print(\"Acelerando\")\n",
    "\n",
    "    def frenar(self):\n",
    "        print(\"Frenando\")\n",
    "\n",
    "    def doblar(self):\n",
    "        print(\"Doblando\")\n",
    "\n",
    "    def estado(self, velocidad, direccion):\n",
    "        print(\"El vehiculo se mueve a\", velocidad, \"km/h y su direccion es\", direccion)\n",
    "\n",
    "    def descripcion(self):\n",
    "        print(\"Color:\", self.color, \"Tipo:\", self.tipo, \"Motor:\", self.motor)\n",
    "\n",
    "mi_moto = Vehiculo(\"Rojo\", \"Moto\", \"100 cc\")\n",
    "mi_auto = Vehiculo(\"Azul\", \"Auto\", \"2000 cc\")\n",
    "mi_camion = Vehiculo(\"Blanco\", \"Camion\", \"5000 cc\")\n",
    "\n",
    "print(mi_moto.color)\n",
    "print(mi_auto.tipo)\n",
    "print(mi_camion.motor)\n",
    "mi_auto.estado(100, \"Norte\")\n",
    "mi_moto.descripcion()"
   ]
  },
  {
   "attachments": {},
   "cell_type": "markdown",
   "metadata": {},
   "source": [
    "5) Crear una clase que permita utilizar las funciones creadas en la práctica del módulo 7<br>\n",
    "Verificar Primo<br>\n",
    "Valor modal<br>\n",
    "Conversión grados<br>\n",
    "Factorial<br>"
   ]
  },
  {
   "cell_type": "code",
   "execution_count": 43,
   "metadata": {},
   "outputs": [],
   "source": [
    "class Operaciones:\n",
    "        \n",
    "    def factorial(self, number):\n",
    "        if number < 0 or type(number) != int:\n",
    "            return 'Invalid number must be an integer greater than 0'\n",
    "        if number == 0:\n",
    "            return 1\n",
    "        return number * self.factorial(number-1)\n",
    "    \n",
    "    def convert_temperatures(self, temperature, unit_from, unit_to):\n",
    "        if unit_from == 'C':\n",
    "            if unit_to == 'F':\n",
    "                return temperature * 9/5 + 32\n",
    "            elif unit_to == 'K':\n",
    "                return temperature + 273.15\n",
    "            else:\n",
    "                return temperature\n",
    "        elif unit_from == 'F':\n",
    "            if unit_to == 'C':\n",
    "                return (temperature - 32) * 5/9\n",
    "            elif unit_to == 'K':\n",
    "                return (temperature - 32) * 5/9 + 273.15\n",
    "            else:\n",
    "                return temperature\n",
    "        elif unit_from == 'K':\n",
    "            if unit_to == 'C':\n",
    "                return temperature - 273.15\n",
    "            elif unit_to == 'F':\n",
    "                return (temperature - 273.15) * 9/5 + 32\n",
    "            else:\n",
    "                return temperature\n",
    "        else:\n",
    "            return temperature\n",
    "        \n",
    "    def is_prime_number(self, number):\n",
    "        if number == 1:\n",
    "            return False\n",
    "        for i in range(2, number):\n",
    "            if number % i == 0:\n",
    "                return False\n",
    "        return True\n",
    "    \n",
    "    def get_most_common_number(self, numbers):\n",
    "        number_dict = {}\n",
    "        for number in numbers:\n",
    "            if number in number_dict:\n",
    "                number_dict[number] += 1\n",
    "            else:\n",
    "                number_dict[number] = 1\n",
    "        return max(number_dict, key=number_dict.get)"
   ]
  },
  {
   "attachments": {},
   "cell_type": "markdown",
   "metadata": {},
   "source": [
    "6) Probar las funciones incorporadas en la clase del punto 5"
   ]
  },
  {
   "cell_type": "code",
   "execution_count": 44,
   "metadata": {},
   "outputs": [
    {
     "name": "stdout",
     "output_type": "stream",
     "text": [
      "120\n",
      "212.0\n",
      "True\n",
      "2\n"
     ]
    }
   ],
   "source": [
    "a = Operaciones()\n",
    "print(a.factorial(5))\n",
    "print(a.convert_temperatures(100, 'C', 'F'))\n",
    "print(a.is_prime_number(7))\n",
    "print(a.get_most_common_number([2, 3, 4, 5, 2, 6, 7, 2, 8, 9, 8, 10]))"
   ]
  },
  {
   "attachments": {},
   "cell_type": "markdown",
   "metadata": {},
   "source": [
    "7) Es necesario que la clase creada en el punto 5 contenga una lista, sobre la cual se apliquen las funciones incorporadas"
   ]
  },
  {
   "cell_type": "code",
   "execution_count": 49,
   "metadata": {},
   "outputs": [
    {
     "name": "stdout",
     "output_type": "stream",
     "text": [
      "Factorial de 5 es 120\n",
      "Factorial de 6 es 720\n",
      "Factorial de 7 es 5040\n",
      "Factorial de 8 es 40320\n",
      "Factorial de 9 es 362880\n",
      "100 grados C son 212.0 grados F\n",
      "100 grados C son 373.15 grados K\n",
      "100 grados C son 100 grados C\n",
      "5 es primo? True\n",
      "6 es primo? False\n",
      "7 es primo? True\n",
      "8 es primo? False\n",
      "9 es primo? False\n",
      "El numero mas comun en [2, 3, 4, 5, 2, 6, 7, 2, 8, 9, 8, 10] es 2\n",
      "El numero mas comun en [2, 3, 4, 5, 2, 6, 7, 2, 8, 9, 8, 10, 2, 2, 2] es 2\n"
     ]
    }
   ],
   "source": [
    "class Operaciones:\n",
    "    def __init__(self, lista):\n",
    "        self.lista = lista\n",
    "\n",
    "    def factorial(self):\n",
    "        for i in self.lista:\n",
    "            print(\"Factorial de\", i, \"es\", self.__factorial(i))\n",
    "        \n",
    "    def __factorial(self, number):\n",
    "        if number < 0 or type(number) != int:\n",
    "            return 'Invalid number must be an integer greater than 0'\n",
    "        if number == 0:\n",
    "            return 1\n",
    "        return number * self.__factorial(number-1)\n",
    "    \n",
    "    def convert_temperatures(self):\n",
    "        for i in self.lista:\n",
    "            print(i[0], \"grados\", i[1], \"son\", self.__convert_temperatures(i[0], i[1], i[2]), \"grados\", i[2])\n",
    "    \n",
    "    def __convert_temperatures(self, temperature, unit_from, unit_to):\n",
    "        if unit_from == 'C':\n",
    "            if unit_to == 'F':\n",
    "                return temperature * 9/5 + 32\n",
    "            elif unit_to == 'K':\n",
    "                return temperature + 273.15\n",
    "            else:\n",
    "                return temperature\n",
    "        elif unit_from == 'F':\n",
    "            if unit_to == 'C':\n",
    "                return (temperature - 32) * 5/9\n",
    "            elif unit_to == 'K':\n",
    "                return (temperature - 32) * 5/9 + 273.15\n",
    "            else:\n",
    "                return temperature\n",
    "        elif unit_from == 'K':\n",
    "            if unit_to == 'C':\n",
    "                return temperature - 273.15\n",
    "            elif unit_to == 'F':\n",
    "                return (temperature - 273.15) * 9/5 + 32\n",
    "            else:\n",
    "                return temperature\n",
    "        else:\n",
    "            return temperature\n",
    "        \n",
    "    def is_prime_number(self):\n",
    "        for i in self.lista:\n",
    "            print(i, \"es primo?\", self.__is_prime_number(i))\n",
    "\n",
    "    def __is_prime_number(self, number):\n",
    "        if number == 1:\n",
    "            return False\n",
    "        for i in range(2, number):\n",
    "            if number % i == 0:\n",
    "                return False\n",
    "        return True\n",
    "    \n",
    "    def get_most_common_number(self):\n",
    "        for i in self.lista:\n",
    "            print(\"El numero mas comun en\", i, \"es\", self.__get_most_common_number(i))\n",
    "\n",
    "    def __get_most_common_number(self, numbers):\n",
    "        number_dict = {}\n",
    "        for number in numbers:\n",
    "            if number in number_dict:\n",
    "                number_dict[number] += 1\n",
    "            else:\n",
    "                number_dict[number] = 1\n",
    "        return max(number_dict, key=number_dict.get)\n",
    "    \n",
    "a=Operaciones([5, 6, 7, 8, 9])\n",
    "a.factorial()\n",
    "b=Operaciones([(100, 'C', 'F'), (100, 'C', 'K'), (100, 'C', 'C')])\n",
    "b.convert_temperatures()\n",
    "a.is_prime_number()\n",
    "c=Operaciones([[2, 3, 4, 5, 2, 6, 7, 2, 8, 9, 8, 10], [2, 3, 4, 5, 2, 6, 7, 2, 8, 9, 8, 10, 2, 2, 2]])\n",
    "c.get_most_common_number()"
   ]
  },
  {
   "attachments": {},
   "cell_type": "markdown",
   "metadata": {},
   "source": [
    "8) Crear un archivo .py aparte y ubicar allí la clase generada en el punto anterior. Luego realizar la importación del módulo y probar alguna de sus funciones"
   ]
  },
  {
   "cell_type": "code",
   "execution_count": 50,
   "metadata": {},
   "outputs": [
    {
     "name": "stdout",
     "output_type": "stream",
     "text": [
      "Factorial de 5 es 120\n",
      "Factorial de 6 es 720\n",
      "Factorial de 7 es 5040\n",
      "Factorial de 8 es 40320\n",
      "Factorial de 9 es 362880\n",
      "100 grados C son 212.0 grados F\n",
      "100 grados C son 373.15 grados K\n",
      "100 grados C son 100 grados C\n",
      "5 es primo? True\n",
      "6 es primo? False\n",
      "7 es primo? True\n",
      "8 es primo? False\n",
      "9 es primo? False\n",
      "El numero mas comun en [2, 3, 4, 5, 2, 6, 7, 2, 8, 9, 8, 10] es 2\n",
      "El numero mas comun en [2, 3, 4, 5, 2, 6, 7, 2, 8, 9, 8, 10, 2, 2, 2] es 2\n"
     ]
    }
   ],
   "source": [
    "from operaciones import *\n",
    "a=Operaciones([5, 6, 7, 8, 9])\n",
    "a.factorial()\n",
    "b=Operaciones([(100, 'C', 'F'), (100, 'C', 'K'), (100, 'C', 'C')])\n",
    "b.convert_temperatures()\n",
    "a.is_prime_number()\n",
    "c=Operaciones([[2, 3, 4, 5, 2, 6, 7, 2, 8, 9, 8, 10], [2, 3, 4, 5, 2, 6, 7, 2, 8, 9, 8, 10, 2, 2, 2]])\n",
    "c.get_most_common_number()\n"
   ]
  }
 ],
 "metadata": {
  "interpreter": {
   "hash": "c85384e4cb51c8b72350f3a8712cc8351fdc3955e32a27f9b60c6242ab125f01"
  },
  "kernelspec": {
   "display_name": "Python 3 (ipykernel)",
   "language": "python",
   "name": "python3"
  },
  "language_info": {
   "codemirror_mode": {
    "name": "ipython",
    "version": 3
   },
   "file_extension": ".py",
   "mimetype": "text/x-python",
   "name": "python",
   "nbconvert_exporter": "python",
   "pygments_lexer": "ipython3",
   "version": "3.10.12"
  }
 },
 "nbformat": 4,
 "nbformat_minor": 4
}
